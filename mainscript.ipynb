{
 "cells": [
  {
   "cell_type": "code",
   "execution_count": 1,
   "id": "dabcf175",
   "metadata": {
    "execution": {
     "iopub.execute_input": "2022-04-09T06:21:41.357167Z",
     "iopub.status.busy": "2022-04-09T06:21:41.355916Z",
     "iopub.status.idle": "2022-04-09T06:21:41.370507Z",
     "shell.execute_reply": "2022-04-09T06:21:41.371174Z",
     "shell.execute_reply.started": "2022-04-09T05:49:42.535411Z"
    },
    "papermill": {
     "duration": 0.046147,
     "end_time": "2022-04-09T06:21:41.371517",
     "exception": false,
     "start_time": "2022-04-09T06:21:41.325370",
     "status": "completed"
    },
    "tags": []
   },
   "outputs": [],
   "source": [
    "import numpy as np # linear algebra\n",
    "import pandas as pd # data processing, CSV file I/O (e.g. pd.read_csv)\n",
    "from pathlib import Path\n",
    "import ast\n",
    "\n",
    "import re\n",
    "\n",
    "pd.options.display.max_columns = 300\n",
    "pd.options.display.max_colwidth = 200\n",
    "pd.options.display.min_rows = 200\n",
    "pd.options.display.max_rows = 200\n"
   ]
  },
  {
   "cell_type": "code",
   "execution_count": 2,
   "id": "5ba22ed0",
   "metadata": {
    "_cell_guid": "a71884e4-3486-402d-aa60-4a765eb62d61",
    "_uuid": "aba6f46b-eb51-4092-aed2-812883baa483",
    "collapsed": false,
    "execution": {
     "iopub.execute_input": "2022-04-09T06:21:41.426262Z",
     "iopub.status.busy": "2022-04-09T06:21:41.425518Z",
     "iopub.status.idle": "2022-04-09T06:21:42.614515Z",
     "shell.execute_reply": "2022-04-09T06:21:42.615110Z",
     "shell.execute_reply.started": "2022-04-09T05:40:16.064568Z"
    },
    "jupyter": {
     "outputs_hidden": false
    },
    "papermill": {
     "duration": 1.21799,
     "end_time": "2022-04-09T06:21:42.615299",
     "exception": false,
     "start_time": "2022-04-09T06:21:41.397309",
     "status": "completed"
    },
    "tags": []
   },
   "outputs": [
    {
     "data": {
      "text/plain": [
       "'/kaggle/input/nbme-score-clinical-patient-notes/sample_submission.csv'"
      ]
     },
     "metadata": {},
     "output_type": "display_data"
    },
    {
     "data": {
      "text/html": [
       "<div>\n",
       "<style scoped>\n",
       "    .dataframe tbody tr th:only-of-type {\n",
       "        vertical-align: middle;\n",
       "    }\n",
       "\n",
       "    .dataframe tbody tr th {\n",
       "        vertical-align: top;\n",
       "    }\n",
       "\n",
       "    .dataframe thead th {\n",
       "        text-align: right;\n",
       "    }\n",
       "</style>\n",
       "<table border=\"1\" class=\"dataframe\">\n",
       "  <thead>\n",
       "    <tr style=\"text-align: right;\">\n",
       "      <th></th>\n",
       "      <th>id</th>\n",
       "      <th>location</th>\n",
       "    </tr>\n",
       "  </thead>\n",
       "  <tbody>\n",
       "    <tr>\n",
       "      <th>0</th>\n",
       "      <td>00016_000</td>\n",
       "      <td>0 100</td>\n",
       "    </tr>\n",
       "    <tr>\n",
       "      <th>1</th>\n",
       "      <td>00016_001</td>\n",
       "      <td>NaN</td>\n",
       "    </tr>\n",
       "    <tr>\n",
       "      <th>2</th>\n",
       "      <td>00016_002</td>\n",
       "      <td>200 250;300 400</td>\n",
       "    </tr>\n",
       "    <tr>\n",
       "      <th>3</th>\n",
       "      <td>00016_003</td>\n",
       "      <td>NaN</td>\n",
       "    </tr>\n",
       "    <tr>\n",
       "      <th>4</th>\n",
       "      <td>00016_004</td>\n",
       "      <td>75 110</td>\n",
       "    </tr>\n",
       "  </tbody>\n",
       "</table>\n",
       "</div>"
      ],
      "text/plain": [
       "          id         location\n",
       "0  00016_000            0 100\n",
       "1  00016_001              NaN\n",
       "2  00016_002  200 250;300 400\n",
       "3  00016_003              NaN\n",
       "4  00016_004           75 110"
      ]
     },
     "metadata": {},
     "output_type": "display_data"
    },
    {
     "data": {
      "text/plain": [
       "(5, 2)"
      ]
     },
     "metadata": {},
     "output_type": "display_data"
    },
    {
     "data": {
      "text/plain": [
       "'/kaggle/input/nbme-score-clinical-patient-notes/patient_notes.csv'"
      ]
     },
     "metadata": {},
     "output_type": "display_data"
    },
    {
     "data": {
      "text/html": [
       "<div>\n",
       "<style scoped>\n",
       "    .dataframe tbody tr th:only-of-type {\n",
       "        vertical-align: middle;\n",
       "    }\n",
       "\n",
       "    .dataframe tbody tr th {\n",
       "        vertical-align: top;\n",
       "    }\n",
       "\n",
       "    .dataframe thead th {\n",
       "        text-align: right;\n",
       "    }\n",
       "</style>\n",
       "<table border=\"1\" class=\"dataframe\">\n",
       "  <thead>\n",
       "    <tr style=\"text-align: right;\">\n",
       "      <th></th>\n",
       "      <th>pn_num</th>\n",
       "      <th>case_num</th>\n",
       "      <th>pn_history</th>\n",
       "    </tr>\n",
       "  </thead>\n",
       "  <tbody>\n",
       "    <tr>\n",
       "      <th>0</th>\n",
       "      <td>0</td>\n",
       "      <td>0</td>\n",
       "      <td>17-year-old male, has come to the student health clinic complaining of heart pounding. Mr. Cleveland's mother has given verbal consent for a history, physical examination, and treatment\\r\\n-began ...</td>\n",
       "    </tr>\n",
       "    <tr>\n",
       "      <th>1</th>\n",
       "      <td>1</td>\n",
       "      <td>0</td>\n",
       "      <td>17 yo male with recurrent palpitations for the past 3 mo lasting about 3 - 4 min, it happened about 5 - 6 times since the beginning. One time durign a baskeball game two days ago light headedness,...</td>\n",
       "    </tr>\n",
       "    <tr>\n",
       "      <th>2</th>\n",
       "      <td>2</td>\n",
       "      <td>0</td>\n",
       "      <td>Dillon Cleveland is a 17 y.o. male patient with no significant PMH who presents with complaints of heart pounding. This has been going on for a few months and happens once or twice a month. He can...</td>\n",
       "    </tr>\n",
       "    <tr>\n",
       "      <th>3</th>\n",
       "      <td>3</td>\n",
       "      <td>0</td>\n",
       "      <td>a 17 yo m c/o palpitation started 3 mos ago; \\r\\nNOTHING IMPROVES OR EXACERBATES THE SYMPTOMS ACCORDING TO HIM; IT CAN HAPPEN ANY TIME; MAY TAKE A FEW MINUTES; LAST TIME HAPPENED 2 DAYS AGO DURING...</td>\n",
       "    </tr>\n",
       "    <tr>\n",
       "      <th>4</th>\n",
       "      <td>4</td>\n",
       "      <td>0</td>\n",
       "      <td>17yo male with no pmh here for evaluation of palpitations. States for the last 3-4mo he has felt that his heart with intermittently \"beat out of his chest,\" with some associated difficulty catchin...</td>\n",
       "    </tr>\n",
       "  </tbody>\n",
       "</table>\n",
       "</div>"
      ],
      "text/plain": [
       "   pn_num  case_num  \\\n",
       "0       0         0   \n",
       "1       1         0   \n",
       "2       2         0   \n",
       "3       3         0   \n",
       "4       4         0   \n",
       "\n",
       "                                                                                                                                                                                                pn_history  \n",
       "0  17-year-old male, has come to the student health clinic complaining of heart pounding. Mr. Cleveland's mother has given verbal consent for a history, physical examination, and treatment\\r\\n-began ...  \n",
       "1  17 yo male with recurrent palpitations for the past 3 mo lasting about 3 - 4 min, it happened about 5 - 6 times since the beginning. One time durign a baskeball game two days ago light headedness,...  \n",
       "2  Dillon Cleveland is a 17 y.o. male patient with no significant PMH who presents with complaints of heart pounding. This has been going on for a few months and happens once or twice a month. He can...  \n",
       "3  a 17 yo m c/o palpitation started 3 mos ago; \\r\\nNOTHING IMPROVES OR EXACERBATES THE SYMPTOMS ACCORDING TO HIM; IT CAN HAPPEN ANY TIME; MAY TAKE A FEW MINUTES; LAST TIME HAPPENED 2 DAYS AGO DURING...  \n",
       "4  17yo male with no pmh here for evaluation of palpitations. States for the last 3-4mo he has felt that his heart with intermittently \"beat out of his chest,\" with some associated difficulty catchin...  "
      ]
     },
     "metadata": {},
     "output_type": "display_data"
    },
    {
     "data": {
      "text/plain": [
       "(42146, 3)"
      ]
     },
     "metadata": {},
     "output_type": "display_data"
    },
    {
     "data": {
      "text/plain": [
       "'/kaggle/input/nbme-score-clinical-patient-notes/features.csv'"
      ]
     },
     "metadata": {},
     "output_type": "display_data"
    },
    {
     "data": {
      "text/html": [
       "<div>\n",
       "<style scoped>\n",
       "    .dataframe tbody tr th:only-of-type {\n",
       "        vertical-align: middle;\n",
       "    }\n",
       "\n",
       "    .dataframe tbody tr th {\n",
       "        vertical-align: top;\n",
       "    }\n",
       "\n",
       "    .dataframe thead th {\n",
       "        text-align: right;\n",
       "    }\n",
       "</style>\n",
       "<table border=\"1\" class=\"dataframe\">\n",
       "  <thead>\n",
       "    <tr style=\"text-align: right;\">\n",
       "      <th></th>\n",
       "      <th>feature_num</th>\n",
       "      <th>case_num</th>\n",
       "      <th>feature_text</th>\n",
       "    </tr>\n",
       "  </thead>\n",
       "  <tbody>\n",
       "    <tr>\n",
       "      <th>0</th>\n",
       "      <td>0</td>\n",
       "      <td>0</td>\n",
       "      <td>Family-history-of-MI-OR-Family-history-of-myocardial-infarction</td>\n",
       "    </tr>\n",
       "    <tr>\n",
       "      <th>1</th>\n",
       "      <td>1</td>\n",
       "      <td>0</td>\n",
       "      <td>Family-history-of-thyroid-disorder</td>\n",
       "    </tr>\n",
       "    <tr>\n",
       "      <th>2</th>\n",
       "      <td>2</td>\n",
       "      <td>0</td>\n",
       "      <td>Chest-pressure</td>\n",
       "    </tr>\n",
       "    <tr>\n",
       "      <th>3</th>\n",
       "      <td>3</td>\n",
       "      <td>0</td>\n",
       "      <td>Intermittent-symptoms</td>\n",
       "    </tr>\n",
       "    <tr>\n",
       "      <th>4</th>\n",
       "      <td>4</td>\n",
       "      <td>0</td>\n",
       "      <td>Lightheaded</td>\n",
       "    </tr>\n",
       "  </tbody>\n",
       "</table>\n",
       "</div>"
      ],
      "text/plain": [
       "   feature_num  case_num  \\\n",
       "0            0         0   \n",
       "1            1         0   \n",
       "2            2         0   \n",
       "3            3         0   \n",
       "4            4         0   \n",
       "\n",
       "                                                      feature_text  \n",
       "0  Family-history-of-MI-OR-Family-history-of-myocardial-infarction  \n",
       "1                               Family-history-of-thyroid-disorder  \n",
       "2                                                   Chest-pressure  \n",
       "3                                            Intermittent-symptoms  \n",
       "4                                                      Lightheaded  "
      ]
     },
     "metadata": {},
     "output_type": "display_data"
    },
    {
     "data": {
      "text/plain": [
       "(143, 3)"
      ]
     },
     "metadata": {},
     "output_type": "display_data"
    },
    {
     "data": {
      "text/plain": [
       "'/kaggle/input/nbme-score-clinical-patient-notes/train.csv'"
      ]
     },
     "metadata": {},
     "output_type": "display_data"
    },
    {
     "data": {
      "text/html": [
       "<div>\n",
       "<style scoped>\n",
       "    .dataframe tbody tr th:only-of-type {\n",
       "        vertical-align: middle;\n",
       "    }\n",
       "\n",
       "    .dataframe tbody tr th {\n",
       "        vertical-align: top;\n",
       "    }\n",
       "\n",
       "    .dataframe thead th {\n",
       "        text-align: right;\n",
       "    }\n",
       "</style>\n",
       "<table border=\"1\" class=\"dataframe\">\n",
       "  <thead>\n",
       "    <tr style=\"text-align: right;\">\n",
       "      <th></th>\n",
       "      <th>id</th>\n",
       "      <th>case_num</th>\n",
       "      <th>pn_num</th>\n",
       "      <th>feature_num</th>\n",
       "      <th>annotation</th>\n",
       "      <th>location</th>\n",
       "    </tr>\n",
       "  </thead>\n",
       "  <tbody>\n",
       "    <tr>\n",
       "      <th>0</th>\n",
       "      <td>00016_000</td>\n",
       "      <td>0</td>\n",
       "      <td>16</td>\n",
       "      <td>0</td>\n",
       "      <td>['dad with recent heart attcak']</td>\n",
       "      <td>['696 724']</td>\n",
       "    </tr>\n",
       "    <tr>\n",
       "      <th>1</th>\n",
       "      <td>00016_001</td>\n",
       "      <td>0</td>\n",
       "      <td>16</td>\n",
       "      <td>1</td>\n",
       "      <td>['mom with \"thyroid disease']</td>\n",
       "      <td>['668 693']</td>\n",
       "    </tr>\n",
       "    <tr>\n",
       "      <th>2</th>\n",
       "      <td>00016_002</td>\n",
       "      <td>0</td>\n",
       "      <td>16</td>\n",
       "      <td>2</td>\n",
       "      <td>['chest pressure']</td>\n",
       "      <td>['203 217']</td>\n",
       "    </tr>\n",
       "    <tr>\n",
       "      <th>3</th>\n",
       "      <td>00016_003</td>\n",
       "      <td>0</td>\n",
       "      <td>16</td>\n",
       "      <td>3</td>\n",
       "      <td>['intermittent episodes', 'episode']</td>\n",
       "      <td>['70 91', '176 183']</td>\n",
       "    </tr>\n",
       "    <tr>\n",
       "      <th>4</th>\n",
       "      <td>00016_004</td>\n",
       "      <td>0</td>\n",
       "      <td>16</td>\n",
       "      <td>4</td>\n",
       "      <td>['felt as if he were going to pass out']</td>\n",
       "      <td>['222 258']</td>\n",
       "    </tr>\n",
       "  </tbody>\n",
       "</table>\n",
       "</div>"
      ],
      "text/plain": [
       "          id  case_num  pn_num  feature_num  \\\n",
       "0  00016_000         0      16            0   \n",
       "1  00016_001         0      16            1   \n",
       "2  00016_002         0      16            2   \n",
       "3  00016_003         0      16            3   \n",
       "4  00016_004         0      16            4   \n",
       "\n",
       "                                 annotation              location  \n",
       "0          ['dad with recent heart attcak']           ['696 724']  \n",
       "1             ['mom with \"thyroid disease']           ['668 693']  \n",
       "2                        ['chest pressure']           ['203 217']  \n",
       "3      ['intermittent episodes', 'episode']  ['70 91', '176 183']  \n",
       "4  ['felt as if he were going to pass out']           ['222 258']  "
      ]
     },
     "metadata": {},
     "output_type": "display_data"
    },
    {
     "data": {
      "text/plain": [
       "(14300, 6)"
      ]
     },
     "metadata": {},
     "output_type": "display_data"
    },
    {
     "data": {
      "text/plain": [
       "'/kaggle/input/nbme-score-clinical-patient-notes/test.csv'"
      ]
     },
     "metadata": {},
     "output_type": "display_data"
    },
    {
     "data": {
      "text/html": [
       "<div>\n",
       "<style scoped>\n",
       "    .dataframe tbody tr th:only-of-type {\n",
       "        vertical-align: middle;\n",
       "    }\n",
       "\n",
       "    .dataframe tbody tr th {\n",
       "        vertical-align: top;\n",
       "    }\n",
       "\n",
       "    .dataframe thead th {\n",
       "        text-align: right;\n",
       "    }\n",
       "</style>\n",
       "<table border=\"1\" class=\"dataframe\">\n",
       "  <thead>\n",
       "    <tr style=\"text-align: right;\">\n",
       "      <th></th>\n",
       "      <th>id</th>\n",
       "      <th>case_num</th>\n",
       "      <th>pn_num</th>\n",
       "      <th>feature_num</th>\n",
       "    </tr>\n",
       "  </thead>\n",
       "  <tbody>\n",
       "    <tr>\n",
       "      <th>0</th>\n",
       "      <td>00016_000</td>\n",
       "      <td>0</td>\n",
       "      <td>16</td>\n",
       "      <td>0</td>\n",
       "    </tr>\n",
       "    <tr>\n",
       "      <th>1</th>\n",
       "      <td>00016_001</td>\n",
       "      <td>0</td>\n",
       "      <td>16</td>\n",
       "      <td>1</td>\n",
       "    </tr>\n",
       "    <tr>\n",
       "      <th>2</th>\n",
       "      <td>00016_002</td>\n",
       "      <td>0</td>\n",
       "      <td>16</td>\n",
       "      <td>2</td>\n",
       "    </tr>\n",
       "    <tr>\n",
       "      <th>3</th>\n",
       "      <td>00016_003</td>\n",
       "      <td>0</td>\n",
       "      <td>16</td>\n",
       "      <td>3</td>\n",
       "    </tr>\n",
       "    <tr>\n",
       "      <th>4</th>\n",
       "      <td>00016_004</td>\n",
       "      <td>0</td>\n",
       "      <td>16</td>\n",
       "      <td>4</td>\n",
       "    </tr>\n",
       "  </tbody>\n",
       "</table>\n",
       "</div>"
      ],
      "text/plain": [
       "          id  case_num  pn_num  feature_num\n",
       "0  00016_000         0      16            0\n",
       "1  00016_001         0      16            1\n",
       "2  00016_002         0      16            2\n",
       "3  00016_003         0      16            3\n",
       "4  00016_004         0      16            4"
      ]
     },
     "metadata": {},
     "output_type": "display_data"
    },
    {
     "data": {
      "text/plain": [
       "(5, 4)"
      ]
     },
     "metadata": {},
     "output_type": "display_data"
    }
   ],
   "source": [
    "# This Python 3 environment comes with many helpful analytics libraries installed\n",
    "# It is defined by the kaggle/python Docker image: https://github.com/kaggle/docker-python\n",
    "# For example, here's several helpful packages to load\n",
    "\n",
    "# Input data files are available in the read-only \"../input/\" directory\n",
    "# For example, running this (by clicking run or pressing Shift+Enter) will list all files under the input directory\n",
    "\n",
    "import os\n",
    "for dirname, _, filenames in os.walk('/kaggle/input'):\n",
    "    for filename in filenames:\n",
    "        filePath = os.path.join(dirname, filename)\n",
    "        fileCsv = pd.read_csv(filePath)\n",
    "        \n",
    "        display(filePath)\n",
    "        display(fileCsv.head())\n",
    "        display(fileCsv.shape)\n",
    "\n",
    "        variable = Path(filename).stem\n",
    "        exec(f'data_{variable} = fileCsv')\n",
    "\n",
    "# You can write up to 20GB to the current directory (/kaggle/working/) that gets preserved as output when you create a version using \"Save & Run All\" \n",
    "# You can also write temporary files to /kaggle/temp/, but they won't be saved outside of the current session"
   ]
  },
  {
   "cell_type": "code",
   "execution_count": 3,
   "id": "6b8402a6",
   "metadata": {
    "execution": {
     "iopub.execute_input": "2022-04-09T06:21:42.688628Z",
     "iopub.status.busy": "2022-04-09T06:21:42.687606Z",
     "iopub.status.idle": "2022-04-09T06:21:42.693350Z",
     "shell.execute_reply": "2022-04-09T06:21:42.693846Z",
     "shell.execute_reply.started": "2022-04-09T06:20:57.294919Z"
    },
    "papermill": {
     "duration": 0.044432,
     "end_time": "2022-04-09T06:21:42.694062",
     "exception": false,
     "start_time": "2022-04-09T06:21:42.649630",
     "status": "completed"
    },
    "tags": []
   },
   "outputs": [],
   "source": [
    "data_features.to_csv('deleteMe.csv')"
   ]
  },
  {
   "cell_type": "markdown",
   "id": "c9a83492",
   "metadata": {
    "papermill": {
     "duration": 0.033025,
     "end_time": "2022-04-09T06:21:42.761030",
     "exception": false,
     "start_time": "2022-04-09T06:21:42.728005",
     "status": "completed"
    },
    "tags": []
   },
   "source": [
    "# Objectives  \n",
    "\n",
    "`id = {00016_001}`\n",
    "Given the patient (pn_num=16)(look for the corresponding patient history notes), with specified feature needed (feat_num=001). Identify the target `position`, which is the (start, stop) index of the string that is related to the interested feature.  "
   ]
  },
  {
   "cell_type": "markdown",
   "id": "92469f79",
   "metadata": {
    "papermill": {
     "duration": 0.032762,
     "end_time": "2022-04-09T06:21:42.827541",
     "exception": false,
     "start_time": "2022-04-09T06:21:42.794779",
     "status": "completed"
    },
    "tags": []
   },
   "source": [
    "# EDA"
   ]
  },
  {
   "cell_type": "code",
   "execution_count": 4,
   "id": "45843a3b",
   "metadata": {
    "execution": {
     "iopub.execute_input": "2022-04-09T06:21:42.897309Z",
     "iopub.status.busy": "2022-04-09T06:21:42.896256Z",
     "iopub.status.idle": "2022-04-09T06:21:42.933791Z",
     "shell.execute_reply": "2022-04-09T06:21:42.934337Z",
     "shell.execute_reply.started": "2022-04-09T05:40:17.374156Z"
    },
    "papermill": {
     "duration": 0.074098,
     "end_time": "2022-04-09T06:21:42.934519",
     "exception": false,
     "start_time": "2022-04-09T06:21:42.860421",
     "status": "completed"
    },
    "tags": []
   },
   "outputs": [
    {
     "data": {
      "text/html": [
       "<div>\n",
       "<style scoped>\n",
       "    .dataframe tbody tr th:only-of-type {\n",
       "        vertical-align: middle;\n",
       "    }\n",
       "\n",
       "    .dataframe tbody tr th {\n",
       "        vertical-align: top;\n",
       "    }\n",
       "\n",
       "    .dataframe thead th {\n",
       "        text-align: right;\n",
       "    }\n",
       "</style>\n",
       "<table border=\"1\" class=\"dataframe\">\n",
       "  <thead>\n",
       "    <tr style=\"text-align: right;\">\n",
       "      <th></th>\n",
       "      <th>case_num</th>\n",
       "      <th>level_1</th>\n",
       "      <th>feature_text</th>\n",
       "    </tr>\n",
       "  </thead>\n",
       "  <tbody>\n",
       "    <tr>\n",
       "      <th>0</th>\n",
       "      <td>0</td>\n",
       "      <td>Family-history-of-MI-OR-Family-history-of-myocardial-infarction</td>\n",
       "      <td>1</td>\n",
       "    </tr>\n",
       "    <tr>\n",
       "      <th>1</th>\n",
       "      <td>0</td>\n",
       "      <td>Family-history-of-thyroid-disorder</td>\n",
       "      <td>1</td>\n",
       "    </tr>\n",
       "    <tr>\n",
       "      <th>2</th>\n",
       "      <td>0</td>\n",
       "      <td>Chest-pressure</td>\n",
       "      <td>1</td>\n",
       "    </tr>\n",
       "    <tr>\n",
       "      <th>3</th>\n",
       "      <td>0</td>\n",
       "      <td>Intermittent-symptoms</td>\n",
       "      <td>1</td>\n",
       "    </tr>\n",
       "    <tr>\n",
       "      <th>4</th>\n",
       "      <td>0</td>\n",
       "      <td>Lightheaded</td>\n",
       "      <td>1</td>\n",
       "    </tr>\n",
       "  </tbody>\n",
       "</table>\n",
       "</div>"
      ],
      "text/plain": [
       "   case_num                                                          level_1  \\\n",
       "0         0  Family-history-of-MI-OR-Family-history-of-myocardial-infarction   \n",
       "1         0                               Family-history-of-thyroid-disorder   \n",
       "2         0                                                   Chest-pressure   \n",
       "3         0                                            Intermittent-symptoms   \n",
       "4         0                                                      Lightheaded   \n",
       "\n",
       "   feature_text  \n",
       "0             1  \n",
       "1             1  \n",
       "2             1  \n",
       "3             1  \n",
       "4             1  "
      ]
     },
     "metadata": {},
     "output_type": "display_data"
    },
    {
     "data": {
      "text/plain": [
       "(143, 3)"
      ]
     },
     "execution_count": 4,
     "metadata": {},
     "output_type": "execute_result"
    }
   ],
   "source": [
    "a = data_features.groupby('case_num').feature_text.apply(lambda series: series.value_counts()).reset_index()\n",
    "display(a.head())\n",
    "a.shape\n",
    "# the number of features is still 143 rows. \n",
    "# this suggest one feature cannot appear in more than 1 case\n",
    "# thus case_num can be used to select the candiate for the features"
   ]
  },
  {
   "cell_type": "code",
   "execution_count": 5,
   "id": "507b6ccc",
   "metadata": {
    "execution": {
     "iopub.execute_input": "2022-04-09T06:21:43.010838Z",
     "iopub.status.busy": "2022-04-09T06:21:43.009837Z",
     "iopub.status.idle": "2022-04-09T06:21:43.018332Z",
     "shell.execute_reply": "2022-04-09T06:21:43.018845Z",
     "shell.execute_reply.started": "2022-04-09T05:40:17.844508Z"
    },
    "papermill": {
     "duration": 0.047718,
     "end_time": "2022-04-09T06:21:43.019062",
     "exception": false,
     "start_time": "2022-04-09T06:21:42.971344",
     "status": "completed"
    },
    "tags": []
   },
   "outputs": [
    {
     "data": {
      "text/plain": [
       "case_num\n",
       "0    13\n",
       "1    13\n",
       "2    17\n",
       "3    16\n",
       "4    10\n",
       "5    18\n",
       "6    12\n",
       "7     9\n",
       "8    18\n",
       "9    17\n",
       "Name: feature_text, dtype: int64"
      ]
     },
     "execution_count": 5,
     "metadata": {},
     "output_type": "execute_result"
    }
   ],
   "source": [
    "# the count of features in each case_num\n",
    "# looks almost evenly distributed\n",
    "data_features.groupby('case_num').feature_text.apply(len)"
   ]
  },
  {
   "cell_type": "markdown",
   "id": "27b96710",
   "metadata": {
    "papermill": {
     "duration": 0.034397,
     "end_time": "2022-04-09T06:21:43.089134",
     "exception": false,
     "start_time": "2022-04-09T06:21:43.054737",
     "status": "completed"
    },
    "tags": []
   },
   "source": [
    "## `patient_notes.csv` and `train.csv`\n",
    "There are 42,146 notes, and 14,300 rows of labelled data"
   ]
  },
  {
   "cell_type": "code",
   "execution_count": 6,
   "id": "633ecff2",
   "metadata": {
    "execution": {
     "iopub.execute_input": "2022-04-09T06:21:43.163985Z",
     "iopub.status.busy": "2022-04-09T06:21:43.162921Z",
     "iopub.status.idle": "2022-04-09T06:21:43.173549Z",
     "shell.execute_reply": "2022-04-09T06:21:43.174009Z",
     "shell.execute_reply.started": "2022-04-09T05:40:18.123365Z"
    },
    "papermill": {
     "duration": 0.04934,
     "end_time": "2022-04-09T06:21:43.174211",
     "exception": false,
     "start_time": "2022-04-09T06:21:43.124871",
     "status": "completed"
    },
    "tags": []
   },
   "outputs": [
    {
     "data": {
      "text/plain": [
       "('unique patients in notes', 42146)"
      ]
     },
     "execution_count": 6,
     "metadata": {},
     "output_type": "execute_result"
    }
   ],
   "source": [
    "'unique patients in notes', len(data_patient_notes.pn_num.unique())"
   ]
  },
  {
   "cell_type": "code",
   "execution_count": 7,
   "id": "0945fd95",
   "metadata": {
    "execution": {
     "iopub.execute_input": "2022-04-09T06:21:43.251733Z",
     "iopub.status.busy": "2022-04-09T06:21:43.251024Z",
     "iopub.status.idle": "2022-04-09T06:21:43.254894Z",
     "shell.execute_reply": "2022-04-09T06:21:43.255385Z",
     "shell.execute_reply.started": "2022-04-09T05:40:18.254202Z"
    },
    "papermill": {
     "duration": 0.046267,
     "end_time": "2022-04-09T06:21:43.255574",
     "exception": false,
     "start_time": "2022-04-09T06:21:43.209307",
     "status": "completed"
    },
    "tags": []
   },
   "outputs": [
    {
     "data": {
      "text/plain": [
       "('patients in train data', 1000)"
      ]
     },
     "execution_count": 7,
     "metadata": {},
     "output_type": "execute_result"
    }
   ],
   "source": [
    "'patients in train data', len(data_train.pn_num.unique()) # 1000 patients in the training notes"
   ]
  },
  {
   "cell_type": "code",
   "execution_count": 8,
   "id": "cbe12f68",
   "metadata": {
    "execution": {
     "iopub.execute_input": "2022-04-09T06:21:43.333546Z",
     "iopub.status.busy": "2022-04-09T06:21:43.332849Z",
     "iopub.status.idle": "2022-04-09T06:21:43.394431Z",
     "shell.execute_reply": "2022-04-09T06:21:43.394982Z",
     "shell.execute_reply.started": "2022-04-09T05:40:18.379329Z"
    },
    "papermill": {
     "duration": 0.104309,
     "end_time": "2022-04-09T06:21:43.395176",
     "exception": false,
     "start_time": "2022-04-09T06:21:43.290867",
     "status": "completed"
    },
    "tags": []
   },
   "outputs": [
    {
     "data": {
      "text/plain": [
       "('number of patients having more than one case', 0)"
      ]
     },
     "execution_count": 8,
     "metadata": {},
     "output_type": "execute_result"
    }
   ],
   "source": [
    "# can a patient be in different case?\n",
    "'number of patients having more than one case', sum(data_train.groupby('pn_num').case_num.apply(lambda series: len(series.unique())) > 1)"
   ]
  },
  {
   "cell_type": "code",
   "execution_count": 9,
   "id": "4009ec14",
   "metadata": {
    "execution": {
     "iopub.execute_input": "2022-04-09T06:21:43.469969Z",
     "iopub.status.busy": "2022-04-09T06:21:43.469334Z",
     "iopub.status.idle": "2022-04-09T06:21:43.477534Z",
     "shell.execute_reply": "2022-04-09T06:21:43.478132Z",
     "shell.execute_reply.started": "2022-04-09T05:40:19.228169Z"
    },
    "papermill": {
     "duration": 0.047361,
     "end_time": "2022-04-09T06:21:43.478301",
     "exception": false,
     "start_time": "2022-04-09T06:21:43.430940",
     "status": "completed"
    },
    "tags": []
   },
   "outputs": [
    {
     "data": {
      "text/plain": [
       "1000"
      ]
     },
     "execution_count": 9,
     "metadata": {},
     "output_type": "execute_result"
    }
   ],
   "source": [
    "patientInTrain = data_train.pn_num\n",
    "data_patient_notes.pn_num.isin(patientInTrain).sum() # all thousand notes found\n",
    "# with 14k notes, only 1000 notes comes with information annotation"
   ]
  },
  {
   "cell_type": "code",
   "execution_count": 10,
   "id": "0aa5d1a6",
   "metadata": {
    "execution": {
     "iopub.execute_input": "2022-04-09T06:21:43.553289Z",
     "iopub.status.busy": "2022-04-09T06:21:43.552634Z",
     "iopub.status.idle": "2022-04-09T06:21:43.591690Z",
     "shell.execute_reply": "2022-04-09T06:21:43.591164Z",
     "shell.execute_reply.started": "2022-04-09T05:40:20.216835Z"
    },
    "papermill": {
     "duration": 0.077628,
     "end_time": "2022-04-09T06:21:43.591837",
     "exception": false,
     "start_time": "2022-04-09T06:21:43.514209",
     "status": "completed"
    },
    "tags": []
   },
   "outputs": [
    {
     "data": {
      "text/html": [
       "<div>\n",
       "<style scoped>\n",
       "    .dataframe tbody tr th:only-of-type {\n",
       "        vertical-align: middle;\n",
       "    }\n",
       "\n",
       "    .dataframe tbody tr th {\n",
       "        vertical-align: top;\n",
       "    }\n",
       "\n",
       "    .dataframe thead th {\n",
       "        text-align: right;\n",
       "    }\n",
       "</style>\n",
       "<table border=\"1\" class=\"dataframe\">\n",
       "  <thead>\n",
       "    <tr style=\"text-align: right;\">\n",
       "      <th></th>\n",
       "      <th>pn_num</th>\n",
       "      <th>case_num</th>\n",
       "      <th>pn_history</th>\n",
       "    </tr>\n",
       "  </thead>\n",
       "  <tbody>\n",
       "    <tr>\n",
       "      <th>0</th>\n",
       "      <td>0</td>\n",
       "      <td>0</td>\n",
       "      <td>17-year-old male, has come to the student health clinic complaining of heart pounding. Mr. Cleveland's mother has given verbal consent for a history, physical examination, and treatment\\r\\n-began ...</td>\n",
       "    </tr>\n",
       "    <tr>\n",
       "      <th>1</th>\n",
       "      <td>1</td>\n",
       "      <td>0</td>\n",
       "      <td>17 yo male with recurrent palpitations for the past 3 mo lasting about 3 - 4 min, it happened about 5 - 6 times since the beginning. One time durign a baskeball game two days ago light headedness,...</td>\n",
       "    </tr>\n",
       "    <tr>\n",
       "      <th>2</th>\n",
       "      <td>2</td>\n",
       "      <td>0</td>\n",
       "      <td>Dillon Cleveland is a 17 y.o. male patient with no significant PMH who presents with complaints of heart pounding. This has been going on for a few months and happens once or twice a month. He can...</td>\n",
       "    </tr>\n",
       "    <tr>\n",
       "      <th>3</th>\n",
       "      <td>3</td>\n",
       "      <td>0</td>\n",
       "      <td>a 17 yo m c/o palpitation started 3 mos ago; \\r\\nNOTHING IMPROVES OR EXACERBATES THE SYMPTOMS ACCORDING TO HIM; IT CAN HAPPEN ANY TIME; MAY TAKE A FEW MINUTES; LAST TIME HAPPENED 2 DAYS AGO DURING...</td>\n",
       "    </tr>\n",
       "    <tr>\n",
       "      <th>4</th>\n",
       "      <td>4</td>\n",
       "      <td>0</td>\n",
       "      <td>17yo male with no pmh here for evaluation of palpitations. States for the last 3-4mo he has felt that his heart with intermittently \"beat out of his chest,\" with some associated difficulty catchin...</td>\n",
       "    </tr>\n",
       "  </tbody>\n",
       "</table>\n",
       "</div>"
      ],
      "text/plain": [
       "   pn_num  case_num  \\\n",
       "0       0         0   \n",
       "1       1         0   \n",
       "2       2         0   \n",
       "3       3         0   \n",
       "4       4         0   \n",
       "\n",
       "                                                                                                                                                                                                pn_history  \n",
       "0  17-year-old male, has come to the student health clinic complaining of heart pounding. Mr. Cleveland's mother has given verbal consent for a history, physical examination, and treatment\\r\\n-began ...  \n",
       "1  17 yo male with recurrent palpitations for the past 3 mo lasting about 3 - 4 min, it happened about 5 - 6 times since the beginning. One time durign a baskeball game two days ago light headedness,...  \n",
       "2  Dillon Cleveland is a 17 y.o. male patient with no significant PMH who presents with complaints of heart pounding. This has been going on for a few months and happens once or twice a month. He can...  \n",
       "3  a 17 yo m c/o palpitation started 3 mos ago; \\r\\nNOTHING IMPROVES OR EXACERBATES THE SYMPTOMS ACCORDING TO HIM; IT CAN HAPPEN ANY TIME; MAY TAKE A FEW MINUTES; LAST TIME HAPPENED 2 DAYS AGO DURING...  \n",
       "4  17yo male with no pmh here for evaluation of palpitations. States for the last 3-4mo he has felt that his heart with intermittently \"beat out of his chest,\" with some associated difficulty catchin...  "
      ]
     },
     "metadata": {},
     "output_type": "display_data"
    },
    {
     "data": {
      "text/plain": [
       "(42146, 3)"
      ]
     },
     "metadata": {},
     "output_type": "display_data"
    },
    {
     "data": {
      "text/html": [
       "<div>\n",
       "<style scoped>\n",
       "    .dataframe tbody tr th:only-of-type {\n",
       "        vertical-align: middle;\n",
       "    }\n",
       "\n",
       "    .dataframe tbody tr th {\n",
       "        vertical-align: top;\n",
       "    }\n",
       "\n",
       "    .dataframe thead th {\n",
       "        text-align: right;\n",
       "    }\n",
       "</style>\n",
       "<table border=\"1\" class=\"dataframe\">\n",
       "  <thead>\n",
       "    <tr style=\"text-align: right;\">\n",
       "      <th></th>\n",
       "      <th>id</th>\n",
       "      <th>case_num</th>\n",
       "      <th>pn_num</th>\n",
       "      <th>feature_num</th>\n",
       "      <th>annotation</th>\n",
       "      <th>location</th>\n",
       "      <th>feature_text</th>\n",
       "    </tr>\n",
       "  </thead>\n",
       "  <tbody>\n",
       "    <tr>\n",
       "      <th>0</th>\n",
       "      <td>00016_000</td>\n",
       "      <td>0</td>\n",
       "      <td>16</td>\n",
       "      <td>0</td>\n",
       "      <td>['dad with recent heart attcak']</td>\n",
       "      <td>['696 724']</td>\n",
       "      <td>Family-history-of-MI-OR-Family-history-of-myocardial-infarction</td>\n",
       "    </tr>\n",
       "    <tr>\n",
       "      <th>1</th>\n",
       "      <td>00016_001</td>\n",
       "      <td>0</td>\n",
       "      <td>16</td>\n",
       "      <td>1</td>\n",
       "      <td>['mom with \"thyroid disease']</td>\n",
       "      <td>['668 693']</td>\n",
       "      <td>Family-history-of-thyroid-disorder</td>\n",
       "    </tr>\n",
       "    <tr>\n",
       "      <th>2</th>\n",
       "      <td>00016_002</td>\n",
       "      <td>0</td>\n",
       "      <td>16</td>\n",
       "      <td>2</td>\n",
       "      <td>['chest pressure']</td>\n",
       "      <td>['203 217']</td>\n",
       "      <td>Chest-pressure</td>\n",
       "    </tr>\n",
       "    <tr>\n",
       "      <th>3</th>\n",
       "      <td>00016_003</td>\n",
       "      <td>0</td>\n",
       "      <td>16</td>\n",
       "      <td>3</td>\n",
       "      <td>['intermittent episodes', 'episode']</td>\n",
       "      <td>['70 91', '176 183']</td>\n",
       "      <td>Intermittent-symptoms</td>\n",
       "    </tr>\n",
       "    <tr>\n",
       "      <th>4</th>\n",
       "      <td>00016_004</td>\n",
       "      <td>0</td>\n",
       "      <td>16</td>\n",
       "      <td>4</td>\n",
       "      <td>['felt as if he were going to pass out']</td>\n",
       "      <td>['222 258']</td>\n",
       "      <td>Lightheaded</td>\n",
       "    </tr>\n",
       "  </tbody>\n",
       "</table>\n",
       "</div>"
      ],
      "text/plain": [
       "          id  case_num  pn_num  feature_num  \\\n",
       "0  00016_000         0      16            0   \n",
       "1  00016_001         0      16            1   \n",
       "2  00016_002         0      16            2   \n",
       "3  00016_003         0      16            3   \n",
       "4  00016_004         0      16            4   \n",
       "\n",
       "                                 annotation              location  \\\n",
       "0          ['dad with recent heart attcak']           ['696 724']   \n",
       "1             ['mom with \"thyroid disease']           ['668 693']   \n",
       "2                        ['chest pressure']           ['203 217']   \n",
       "3      ['intermittent episodes', 'episode']  ['70 91', '176 183']   \n",
       "4  ['felt as if he were going to pass out']           ['222 258']   \n",
       "\n",
       "                                                      feature_text  \n",
       "0  Family-history-of-MI-OR-Family-history-of-myocardial-infarction  \n",
       "1                               Family-history-of-thyroid-disorder  \n",
       "2                                                   Chest-pressure  \n",
       "3                                            Intermittent-symptoms  \n",
       "4                                                      Lightheaded  "
      ]
     },
     "metadata": {},
     "output_type": "display_data"
    },
    {
     "data": {
      "text/plain": [
       "(14300, 7)"
      ]
     },
     "metadata": {},
     "output_type": "display_data"
    }
   ],
   "source": [
    "display(data_patient_notes.head())\n",
    "display(data_patient_notes.shape)\n",
    "\n",
    "\n",
    "data_train = pd.merge(data_train, data_features,\n",
    "                      on='feature_num', how='left',\n",
    "                      suffixes=('', '_duplicate')\n",
    "                     )\n",
    "data_train = data_train.loc[:,~data_train.columns.str.endswith('_duplicate')]\n",
    "display(data_train.head())\n",
    "display(data_train.shape)"
   ]
  },
  {
   "cell_type": "code",
   "execution_count": 11,
   "id": "990f4f75",
   "metadata": {
    "execution": {
     "iopub.execute_input": "2022-04-09T06:21:43.673394Z",
     "iopub.status.busy": "2022-04-09T06:21:43.672523Z",
     "iopub.status.idle": "2022-04-09T06:21:43.696749Z",
     "shell.execute_reply": "2022-04-09T06:21:43.697340Z",
     "shell.execute_reply.started": "2022-04-09T05:40:20.746752Z"
    },
    "papermill": {
     "duration": 0.066655,
     "end_time": "2022-04-09T06:21:43.697523",
     "exception": false,
     "start_time": "2022-04-09T06:21:43.630868",
     "status": "completed"
    },
    "tags": []
   },
   "outputs": [],
   "source": [
    "data_train = pd.merge(data_train, data_patient_notes,\n",
    "                     on=['pn_num', 'case_num'])"
   ]
  },
  {
   "cell_type": "code",
   "execution_count": 12,
   "id": "6577b0ba",
   "metadata": {
    "execution": {
     "iopub.execute_input": "2022-04-09T06:21:43.779220Z",
     "iopub.status.busy": "2022-04-09T06:21:43.778530Z",
     "iopub.status.idle": "2022-04-09T06:21:43.801599Z",
     "shell.execute_reply": "2022-04-09T06:21:43.802159Z",
     "shell.execute_reply.started": "2022-04-09T05:48:50.964895Z"
    },
    "papermill": {
     "duration": 0.065899,
     "end_time": "2022-04-09T06:21:43.802337",
     "exception": false,
     "start_time": "2022-04-09T06:21:43.736438",
     "status": "completed"
    },
    "tags": []
   },
   "outputs": [
    {
     "name": "stdout",
     "output_type": "stream",
     "text": [
      "(14300, 8) total number of data entry\n",
      "1000 unique number of patient notes\n"
     ]
    }
   ],
   "source": [
    "print(data_train.shape, 'total number of data entry')\n",
    "print(len(data_train.pn_history.unique()), 'unique number of patient notes')"
   ]
  },
  {
   "cell_type": "markdown",
   "id": "ec47519c",
   "metadata": {
    "papermill": {
     "duration": 0.039595,
     "end_time": "2022-04-09T06:21:43.881154",
     "exception": false,
     "start_time": "2022-04-09T06:21:43.841559",
     "status": "completed"
    },
    "tags": []
   },
   "source": [
    "EDA Questions:\n",
    "* for each note(patient), how many labels are present in the text\n",
    "* for each note(patient), what is the len of the text(char and token count)\n",
    "* for every annotation, what is the distribution of char/token count of the text (some feature might need more words to describe)"
   ]
  },
  {
   "cell_type": "code",
   "execution_count": 13,
   "id": "be7753c0",
   "metadata": {
    "execution": {
     "iopub.execute_input": "2022-04-09T06:21:43.963921Z",
     "iopub.status.busy": "2022-04-09T06:21:43.963231Z",
     "iopub.status.idle": "2022-04-09T06:21:44.197692Z",
     "shell.execute_reply": "2022-04-09T06:21:44.197122Z",
     "shell.execute_reply.started": "2022-04-09T05:40:23.971197Z"
    },
    "papermill": {
     "duration": 0.27676,
     "end_time": "2022-04-09T06:21:44.197851",
     "exception": false,
     "start_time": "2022-04-09T06:21:43.921091",
     "status": "completed"
    },
    "tags": []
   },
   "outputs": [],
   "source": [
    "data_train['annotationParsed'] = data_train.annotation.apply(lambda anno: ast.literal_eval(anno))"
   ]
  },
  {
   "cell_type": "code",
   "execution_count": 14,
   "id": "cd0ef743",
   "metadata": {
    "execution": {
     "iopub.execute_input": "2022-04-09T06:21:44.280754Z",
     "iopub.status.busy": "2022-04-09T06:21:44.280116Z",
     "iopub.status.idle": "2022-04-09T06:21:44.307971Z",
     "shell.execute_reply": "2022-04-09T06:21:44.308643Z",
     "shell.execute_reply.started": "2022-04-09T05:44:15.75264Z"
    },
    "papermill": {
     "duration": 0.071055,
     "end_time": "2022-04-09T06:21:44.308817",
     "exception": false,
     "start_time": "2022-04-09T06:21:44.237762",
     "status": "completed"
    },
    "tags": []
   },
   "outputs": [
    {
     "data": {
      "text/html": [
       "<div>\n",
       "<style scoped>\n",
       "    .dataframe tbody tr th:only-of-type {\n",
       "        vertical-align: middle;\n",
       "    }\n",
       "\n",
       "    .dataframe tbody tr th {\n",
       "        vertical-align: top;\n",
       "    }\n",
       "\n",
       "    .dataframe thead th {\n",
       "        text-align: right;\n",
       "    }\n",
       "</style>\n",
       "<table border=\"1\" class=\"dataframe\">\n",
       "  <thead>\n",
       "    <tr style=\"text-align: right;\">\n",
       "      <th></th>\n",
       "      <th>id</th>\n",
       "      <th>case_num</th>\n",
       "      <th>pn_num</th>\n",
       "      <th>feature_num</th>\n",
       "      <th>annotation</th>\n",
       "      <th>location</th>\n",
       "      <th>feature_text</th>\n",
       "      <th>pn_history</th>\n",
       "      <th>annotationParsed</th>\n",
       "    </tr>\n",
       "  </thead>\n",
       "  <tbody>\n",
       "    <tr>\n",
       "      <th>48</th>\n",
       "      <td>00082_009</td>\n",
       "      <td>0</td>\n",
       "      <td>82</td>\n",
       "      <td>9</td>\n",
       "      <td>['heart pounding', 'heart racing', 'heart pounding']</td>\n",
       "      <td>['85 99', '126 138', '126 131;143 151']</td>\n",
       "      <td>heart-pounding-OR-heart-racing</td>\n",
       "      <td>17 yo M w/ no cardiac or arrhythmia PMH presents complaining of 3 months of episodic heart pounding.  Pt reports sensation of heart racing and pounding out of chest about 5-6 times total over the ...</td>\n",
       "      <td>[heart pounding, heart racing, heart pounding]</td>\n",
       "    </tr>\n",
       "    <tr>\n",
       "      <th>91</th>\n",
       "      <td>00211_000</td>\n",
       "      <td>0</td>\n",
       "      <td>211</td>\n",
       "      <td>0</td>\n",
       "      <td>['Father MI']</td>\n",
       "      <td>['682 688;695 697']</td>\n",
       "      <td>Family-history-of-MI-OR-Family-history-of-myocardial-infarction</td>\n",
       "      <td>HPI: Patient is a 17 yo m with a c/o of palpitations.  Palpitations began a few months ago. States that palpitations are sudden, unpredictable and feel like his heart is pounding fast/jumping out ...</td>\n",
       "      <td>[Father MI]</td>\n",
       "    </tr>\n",
       "    <tr>\n",
       "      <th>96</th>\n",
       "      <td>00211_005</td>\n",
       "      <td>0</td>\n",
       "      <td>211</td>\n",
       "      <td>5</td>\n",
       "      <td>['Denies sweating']</td>\n",
       "      <td>['462 468;473 481']</td>\n",
       "      <td>No-hair-changes-OR-no-nail-changes-OR-no-temperature-intolerance</td>\n",
       "      <td>HPI: Patient is a 17 yo m with a c/o of palpitations.  Palpitations began a few months ago. States that palpitations are sudden, unpredictable and feel like his heart is pounding fast/jumping out ...</td>\n",
       "      <td>[Denies sweating]</td>\n",
       "    </tr>\n",
       "    <tr>\n",
       "      <th>100</th>\n",
       "      <td>00211_009</td>\n",
       "      <td>0</td>\n",
       "      <td>211</td>\n",
       "      <td>9</td>\n",
       "      <td>['palpitations', 'Palpitations', 'palpitations', 'heart is pounding', 'heart is fast']</td>\n",
       "      <td>['40 52', '55 67', '104 116', '161 178', '161 169;179 183']</td>\n",
       "      <td>heart-pounding-OR-heart-racing</td>\n",
       "      <td>HPI: Patient is a 17 yo m with a c/o of palpitations.  Palpitations began a few months ago. States that palpitations are sudden, unpredictable and feel like his heart is pounding fast/jumping out ...</td>\n",
       "      <td>[palpitations, Palpitations, palpitations, heart is pounding, heart is fast]</td>\n",
       "    </tr>\n",
       "    <tr>\n",
       "      <th>125</th>\n",
       "      <td>00225_008</td>\n",
       "      <td>0</td>\n",
       "      <td>225</td>\n",
       "      <td>8</td>\n",
       "      <td>['drinks coffee', 'drinks energy drinks']</td>\n",
       "      <td>['461 467;483 489', '461 467;506 519']</td>\n",
       "      <td>Caffeine-use</td>\n",
       "      <td>17 y/o previously healthy male here with heart pounding. States a few months ago, he started having episodes of feeling like his heart is pound/jumping out of his chest. Denies any anxiety, sweati...</td>\n",
       "      <td>[drinks coffee, drinks energy drinks]</td>\n",
       "    </tr>\n",
       "  </tbody>\n",
       "</table>\n",
       "</div>"
      ],
      "text/plain": [
       "            id  case_num  pn_num  feature_num  \\\n",
       "48   00082_009         0      82            9   \n",
       "91   00211_000         0     211            0   \n",
       "96   00211_005         0     211            5   \n",
       "100  00211_009         0     211            9   \n",
       "125  00225_008         0     225            8   \n",
       "\n",
       "                                                                                 annotation  \\\n",
       "48                                     ['heart pounding', 'heart racing', 'heart pounding']   \n",
       "91                                                                            ['Father MI']   \n",
       "96                                                                      ['Denies sweating']   \n",
       "100  ['palpitations', 'Palpitations', 'palpitations', 'heart is pounding', 'heart is fast']   \n",
       "125                                               ['drinks coffee', 'drinks energy drinks']   \n",
       "\n",
       "                                                        location  \\\n",
       "48                       ['85 99', '126 138', '126 131;143 151']   \n",
       "91                                           ['682 688;695 697']   \n",
       "96                                           ['462 468;473 481']   \n",
       "100  ['40 52', '55 67', '104 116', '161 178', '161 169;179 183']   \n",
       "125                       ['461 467;483 489', '461 467;506 519']   \n",
       "\n",
       "                                                         feature_text  \\\n",
       "48                                     heart-pounding-OR-heart-racing   \n",
       "91    Family-history-of-MI-OR-Family-history-of-myocardial-infarction   \n",
       "96   No-hair-changes-OR-no-nail-changes-OR-no-temperature-intolerance   \n",
       "100                                    heart-pounding-OR-heart-racing   \n",
       "125                                                      Caffeine-use   \n",
       "\n",
       "                                                                                                                                                                                                  pn_history  \\\n",
       "48   17 yo M w/ no cardiac or arrhythmia PMH presents complaining of 3 months of episodic heart pounding.  Pt reports sensation of heart racing and pounding out of chest about 5-6 times total over the ...   \n",
       "91   HPI: Patient is a 17 yo m with a c/o of palpitations.  Palpitations began a few months ago. States that palpitations are sudden, unpredictable and feel like his heart is pounding fast/jumping out ...   \n",
       "96   HPI: Patient is a 17 yo m with a c/o of palpitations.  Palpitations began a few months ago. States that palpitations are sudden, unpredictable and feel like his heart is pounding fast/jumping out ...   \n",
       "100  HPI: Patient is a 17 yo m with a c/o of palpitations.  Palpitations began a few months ago. States that palpitations are sudden, unpredictable and feel like his heart is pounding fast/jumping out ...   \n",
       "125  17 y/o previously healthy male here with heart pounding. States a few months ago, he started having episodes of feeling like his heart is pound/jumping out of his chest. Denies any anxiety, sweati...   \n",
       "\n",
       "                                                                 annotationParsed  \n",
       "48                                 [heart pounding, heart racing, heart pounding]  \n",
       "91                                                                    [Father MI]  \n",
       "96                                                              [Denies sweating]  \n",
       "100  [palpitations, Palpitations, palpitations, heart is pounding, heart is fast]  \n",
       "125                                         [drinks coffee, drinks energy drinks]  "
      ]
     },
     "execution_count": 14,
     "metadata": {},
     "output_type": "execute_result"
    }
   ],
   "source": [
    "data_train[data_train.location.str.contains(';')].head()"
   ]
  },
  {
   "cell_type": "markdown",
   "id": "7d1d458a",
   "metadata": {
    "papermill": {
     "duration": 0.03993,
     "end_time": "2022-04-09T06:21:44.388849",
     "exception": false,
     "start_time": "2022-04-09T06:21:44.348919",
     "status": "completed"
    },
    "tags": []
   },
   "source": [
    "## location explained\n",
    "\n",
    "for each `pn_history` note, "
   ]
  },
  {
   "cell_type": "code",
   "execution_count": null,
   "id": "c045a6db",
   "metadata": {
    "papermill": {
     "duration": 0.039907,
     "end_time": "2022-04-09T06:21:44.469286",
     "exception": false,
     "start_time": "2022-04-09T06:21:44.429379",
     "status": "completed"
    },
    "tags": []
   },
   "outputs": [],
   "source": []
  },
  {
   "cell_type": "code",
   "execution_count": 15,
   "id": "123c2ddb",
   "metadata": {
    "execution": {
     "iopub.execute_input": "2022-04-09T06:21:44.554695Z",
     "iopub.status.busy": "2022-04-09T06:21:44.553865Z",
     "iopub.status.idle": "2022-04-09T06:21:44.747775Z",
     "shell.execute_reply": "2022-04-09T06:21:44.748392Z"
    },
    "papermill": {
     "duration": 0.238307,
     "end_time": "2022-04-09T06:21:44.748584",
     "exception": false,
     "start_time": "2022-04-09T06:21:44.510277",
     "status": "completed"
    },
    "tags": []
   },
   "outputs": [],
   "source": [
    "data_train['locationParsed'] = data_train.location.str.replace(';', \"','\")\n",
    "data_train['locationParsed'] = data_train.locationParsed.apply(lambda anno: ast.literal_eval(anno))\n",
    "data_train['locationParsed'] = data_train['locationParsed'].apply(\n",
    "lambda listedStrings: list(tuple(item.split(' ')) for item in listedStrings)\n",
    ")\n",
    "data_train['locationParsed'] = data_train['locationParsed'].apply(\n",
    "lambda listed_StringTuple: list((int(a[0]), int(a[1])) for a in listed_StringTuple) if listed_StringTuple else []\n",
    ")"
   ]
  },
  {
   "cell_type": "code",
   "execution_count": 16,
   "id": "375b65f2",
   "metadata": {
    "execution": {
     "iopub.execute_input": "2022-04-09T06:21:44.837459Z",
     "iopub.status.busy": "2022-04-09T06:21:44.836823Z",
     "iopub.status.idle": "2022-04-09T06:21:44.840593Z",
     "shell.execute_reply": "2022-04-09T06:21:44.841240Z",
     "shell.execute_reply.started": "2022-04-09T05:35:22.838867Z"
    },
    "papermill": {
     "duration": 0.048549,
     "end_time": "2022-04-09T06:21:44.841427",
     "exception": false,
     "start_time": "2022-04-09T06:21:44.792878",
     "status": "completed"
    },
    "tags": []
   },
   "outputs": [],
   "source": [
    "annoByPatient = data_train.groupby(['pn_num']).annotationParsed"
   ]
  },
  {
   "cell_type": "code",
   "execution_count": 17,
   "id": "9126103e",
   "metadata": {
    "execution": {
     "iopub.execute_input": "2022-04-09T06:21:44.929012Z",
     "iopub.status.busy": "2022-04-09T06:21:44.928004Z",
     "iopub.status.idle": "2022-04-09T06:21:45.590900Z",
     "shell.execute_reply": "2022-04-09T06:21:45.590339Z",
     "shell.execute_reply.started": "2022-04-09T05:35:22.95734Z"
    },
    "papermill": {
     "duration": 0.707446,
     "end_time": "2022-04-09T06:21:45.591064",
     "exception": false,
     "start_time": "2022-04-09T06:21:44.883618",
     "status": "completed"
    },
    "tags": []
   },
   "outputs": [
    {
     "data": {
      "text/plain": [
       "<AxesSubplot:ylabel='Frequency'>"
      ]
     },
     "execution_count": 17,
     "metadata": {},
     "output_type": "execute_result"
    },
    {
     "data": {
      "image/png": "[encoded data removed]",
      "text/plain": [
       "<Figure size 432x288 with 1 Axes>"
      ]
     },
     "metadata": {
      "needs_background": "light"
     },
     "output_type": "display_data"
    }
   ],
   "source": [
    "# number of labels per note/patient\n",
    "annoByPatient.apply(\n",
    "lambda series: sum(series.apply(len)>=1)\n",
    ").plot.hist(bins=20)"
   ]
  },
  {
   "cell_type": "code",
   "execution_count": null,
   "id": "bedcfd21",
   "metadata": {
    "papermill": {
     "duration": 0.041185,
     "end_time": "2022-04-09T06:21:45.674670",
     "exception": false,
     "start_time": "2022-04-09T06:21:45.633485",
     "status": "completed"
    },
    "tags": []
   },
   "outputs": [],
   "source": []
  },
  {
   "cell_type": "code",
   "execution_count": null,
   "id": "97899213",
   "metadata": {
    "papermill": {
     "duration": 0.041797,
     "end_time": "2022-04-09T06:21:45.757776",
     "exception": false,
     "start_time": "2022-04-09T06:21:45.715979",
     "status": "completed"
    },
    "tags": []
   },
   "outputs": [],
   "source": []
  },
  {
   "cell_type": "code",
   "execution_count": null,
   "id": "6a2d1d9b",
   "metadata": {
    "papermill": {
     "duration": 0.041606,
     "end_time": "2022-04-09T06:21:45.842377",
     "exception": false,
     "start_time": "2022-04-09T06:21:45.800771",
     "status": "completed"
    },
    "tags": []
   },
   "outputs": [],
   "source": []
  },
  {
   "cell_type": "code",
   "execution_count": null,
   "id": "aa17f7c9",
   "metadata": {
    "papermill": {
     "duration": 0.041729,
     "end_time": "2022-04-09T06:21:45.925206",
     "exception": false,
     "start_time": "2022-04-09T06:21:45.883477",
     "status": "completed"
    },
    "tags": []
   },
   "outputs": [],
   "source": []
  }
 ],
 "metadata": {
  "kernelspec": {
   "display_name": "Python 3",
   "language": "python",
   "name": "python3"
  },
  "language_info": {
   "codemirror_mode": {
    "name": "ipython",
    "version": 3
   },
   "file_extension": ".py",
   "mimetype": "text/x-python",
   "name": "python",
   "nbconvert_exporter": "python",
   "pygments_lexer": "ipython3",
   "version": "3.7.12"
  },
  "papermill": {
   "default_parameters": {},
   "duration": 16.781194,
   "end_time": "2022-04-09T06:21:46.677409",
   "environment_variables": {},
   "exception": null,
   "input_path": "__notebook__.ipynb",
   "output_path": "__notebook__.ipynb",
   "parameters": {},
   "start_time": "2022-04-09T06:21:29.896215",
   "version": "2.3.3"
  }
 },
 "nbformat": 4,
 "nbformat_minor": 5
}
